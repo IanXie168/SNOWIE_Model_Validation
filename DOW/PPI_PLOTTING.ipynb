{
 "cells": [
  {
   "cell_type": "code",
   "execution_count": 1,
   "id": "25bbaf59-599c-417a-be28-b9817fd3535b",
   "metadata": {},
   "outputs": [],
   "source": [
    "from netCDF4 import Dataset\n",
    "import numpy as np\n",
    "import matplotlib.pyplot as plt\n",
    "from matplotlib.cm import get_cmap\n",
    "import cartopy.crs as crs\n",
    "import matplotlib.ticker as mticker\n",
    "import cartopy.feature as cfeature\n",
    "from cartopy.feature import NaturalEarthFeature\n",
    "from cartopy.mpl.gridliner import LONGITUDE_FORMATTER, LATITUDE_FORMATTER\n",
    "from mpl_toolkits.axes_grid1 import make_axes_locatable\n",
    "from wrf import getvar, interplevel, to_np, get_basemap, ll_to_xy,latlon_coords,latlon_coords, smooth2d,get_cartopy, cartopy_xlim, cartopy_ylim, vertcross,CoordPair\n",
    "import pandas as pd\n",
    "from netCDF4 import Dataset\n",
    "import netCDF4\n",
    "import h5py as h5\n",
    "import csv\n",
    "from scipy import stats\n",
    "import matplotlib as mpl\n",
    "import glob\n",
    "import pyproj\n",
    "from matplotlib.ticker import (MultipleLocator, AutoMinorLocator)\n",
    "import sys\n",
    "import seaborn as sns\n",
    "from metpy.plots import SkewT\n",
    "from metpy.units import pandas_dataframe_to_unit_arrays, units\n",
    "import metpy.calc as mpcalc\n",
    "from metpy.cbook import get_test_data\n",
    "from metpy.interpolate import cross_section\n",
    "import xarray as xr\n",
    "from metpy.io import Level2File\n",
    "from functions_calc import geo_idx\n",
    "import math"
   ]
  },
  {
   "cell_type": "code",
   "execution_count": 2,
   "id": "e5bc3c82-98d9-4598-bd5a-a5cc0d242fb4",
   "metadata": {},
   "outputs": [],
   "source": [
    "#We will need to find the position of the king air relative to the radar position. This block is up top\n",
    "#because this file does not change\n",
    "\n",
    "#First open file then \n",
    "f = Dataset(\"20170108c1.nc\")\n",
    "ptime = f.variables['TIME'][:]\n",
    "plons = f.variables['glon'][:]\n",
    "plats = f.variables['glat'][:]"
   ]
  },
  {
   "cell_type": "code",
   "execution_count": 412,
   "id": "bf74ff63-9840-4cd1-be81-ac02cff874c6",
   "metadata": {},
   "outputs": [
    {
     "name": "stdout",
     "output_type": "stream",
     "text": [
      "PPI_4:55:28_4:55:38_8.00.png\n"
     ]
    }
   ],
   "source": [
    "file_name = 'cfrad.20170108_045528.418_to_20170108_045538.895_DOW7_v309_s10_el8.00_SUR.nc'\n",
    "start_time = file_name[16:21]\n",
    "start_time = file_name[16]+\":\"+file_name[17:19]+\":\"+file_name[19:21]\n",
    "end_time = file_name[39:44]\n",
    "end_time = file_name[39]+\":\"+file_name[40:42]+\":\"+file_name[42:44]\n",
    "elevation_angle = file_name[-12:-7]\n",
    "if elevation_angle[0] == \"l\":\n",
    "    elevation_angle = file_name[-11:-7]\n",
    "el = str(elevation_angle)\n",
    "el.replace(\".\",\"_\")\n",
    "picname = \"PPI_\"+str(start_time)+\"_\"+str(end_time)+\"_\"+el+\".png\"\n",
    "print(picname)"
   ]
  },
  {
   "cell_type": "code",
   "execution_count": 413,
   "id": "0f040d60-307e-4aa8-967f-5bcfd6cc8c15",
   "metadata": {},
   "outputs": [],
   "source": [
    "tenkm_height = str(math.tan(math.radians(float(elevation_angle)))*10+2.138)[0:5]\n",
    "twentykm_height = str(math.tan(math.radians(float(elevation_angle)))*20+2.138)[0:5]\n",
    "thirtykm_height = str(math.tan(math.radians(float(elevation_angle)))*30+2.138)[0:5]\n",
    "fortykm_height = str(math.tan(math.radians(float(elevation_angle)))*40+2.138)[0:5]\n",
    "fiftykm_height = str(math.tan(math.radians(float(elevation_angle)))*50+2.138)[0:5]"
   ]
  },
  {
   "cell_type": "code",
   "execution_count": 414,
   "id": "6da9496e-6f1a-4d45-b27a-e57d07b30a52",
   "metadata": {},
   "outputs": [
    {
     "name": "stdout",
     "output_type": "stream",
     "text": [
      "3.543\n"
     ]
    }
   ],
   "source": [
    "print(tenkm_height)"
   ]
  },
  {
   "cell_type": "code",
   "execution_count": 415,
   "id": "07f34f5e-9ad8-4f8b-9289-133fd3e97505",
   "metadata": {},
   "outputs": [
    {
     "name": "stdout",
     "output_type": "stream",
     "text": [
      "[45517.]\n",
      "[44.207787]\n",
      "[-115.86693]\n",
      "44.207637786865234\n",
      "-116.06920623779297\n"
     ]
    }
   ],
   "source": [
    "print(ptime[start_index[0]])\n",
    "print(plats[start_index[0]])\n",
    "print(plons[start_index[0]])\n",
    "print(Radar_lat[0])\n",
    "print(Radar_lon[0])"
   ]
  },
  {
   "cell_type": "code",
   "execution_count": 416,
   "id": "adba9d3e-787c-4fd5-8e55-a23451a6660b",
   "metadata": {},
   "outputs": [
    {
     "name": "stdout",
     "output_type": "stream",
     "text": [
      "4:55:28\n",
      "4:55:38\n",
      "[45528.]\n",
      "[45538.]\n",
      "[15.34851092 15.27282732 15.19714373 15.12146014 15.04577654 14.97009295\n",
      " 14.89440936 14.81872576 14.74304217 14.66735857 14.59228533]\n",
      "[0.03472102655276643, 0.03641475213870393, 0.03768504632815706, 0.03895534051761018, 0.04022563470706331, 0.04149592889651643, 0.04234279168948518, 0.04361308587893831, 0.04445994867190706, 0.04573024286136018, 0.04657710565432893]\n"
     ]
    }
   ],
   "source": [
    "#We want to plot the planes position on the PPI\n",
    "\n",
    "\n",
    "#Start by getting the start time from the file\n",
    "ind = str(start_time)\n",
    "ind = ind[0]+ind[2:4] + ind[-2]+ind[-1]+\".0\"\n",
    "\n",
    "#Find where that start time is in the plane index\n",
    "start_index = np.where(ptime == float(ind))\n",
    "\n",
    "#Same here but for the end\n",
    "ind = str(end_time)\n",
    "ind = ind[0]+ind[2:4] + ind[-2]+ind[-1]+\".0\"\n",
    "end_index = np.where(ptime == float(ind))\n",
    "\n",
    "\n",
    "#One latitude line = 111KM\n",
    "#One longitude line = 80KM\n",
    "\n",
    "#Make sure they're correct\n",
    "print(start_time)\n",
    "print(end_time)\n",
    "print(ptime[start_index[0]])\n",
    "print(ptime[end_index[0]])\n",
    "\n",
    "\n",
    "#Now let's get the planes position. I know this is inefficient but I was having trouble just using the start and end index from above\n",
    "#Define the X and Y of plane we'll use to plot\n",
    "Yplane = []\n",
    "Xplane = []\n",
    "\n",
    "#Define this u counter variable\n",
    "u = int(start_index[0])\n",
    "\n",
    "#Count through start to end of PPI scan\n",
    "while u <= end_index[0]:\n",
    "    \n",
    "    #Each latitude is 111 km in distance. 44.2 is the lat of the radar\n",
    "    Yplane.append((plats[u]-44.20763779)*111)\n",
    "    \n",
    "    #Each longitude is 80km. 116 is the longitude of the radar.\n",
    "    #We're converting these into Km because that's how the plotting is\n",
    "    #X,Y in KM relative to radar position\n",
    "    Xplane.append((abs(plons[u])-abs(-116.06920624))*80)\n",
    "    u = u + 1\n",
    "\n",
    "Xplane = np.array(Xplane) *-1\n",
    "print(Xplane)\n",
    "print(Yplane)"
   ]
  },
  {
   "cell_type": "code",
   "execution_count": 417,
   "id": "71822620-48e9-4299-ab05-38b61751dd3b",
   "metadata": {},
   "outputs": [],
   "source": [
    "#Open the PPI File\n",
    "ncfile = Dataset(file_name)\n",
    "\n",
    "#Variables in Time (1801) and Range (1000)\n",
    "\n",
    "#Get the variables\n",
    "\n",
    "#Latitude and Longtidue of Radar position. Constant to the radar's position\n",
    "#Index = Time\n",
    "Radar_lat = np.array(ncfile['latitude'])\n",
    "Radar_lon = np.array(ncfile['longitude'])\n",
    "\n",
    "#Distance from Radar to the Center of gate (m)\n",
    "#Index = Range\n",
    "Range = np.array(ncfile['range'])\n",
    "\n",
    "#Azimuth angle from True North. Assume starting rotation to West (Degrees)\n",
    "#Index = Time\n",
    "Azimuth = np.array(ncfile['azimuth'])\n",
    "\n",
    "#Elevation angle of Radar. This should be mostly the same except when it's transitioning (Degrees)\n",
    "#Index = Time\n",
    "Elevation = np.array(ncfile['elevation'][:])\n",
    "\n",
    "#Equivalent reflectivity factor, horizontal channel, offset-corrected (dBZ)\n",
    "#Index = Time, Range\n",
    "dBZ = np.array(ncfile['DBZHCC'])\n",
    "\n",
    "#Quality Flag, determines if it's cluttered (0), precipitation (1), or clean air (2)\n",
    "#Index = Time, Range\n",
    "QF = np.array(ncfile['QFLAG'])\n",
    "\n",
    "#Antenna Transition, indicates when antenna is transitioning to a new elevation angle. (1) if in transition (0) if otherwise\n",
    "#Index = Time\n",
    "Transition = np.array(ncfile['antenna_transition'])\n",
    "height_agl = np.array(ncfile['altitude'])\n"
   ]
  },
  {
   "cell_type": "code",
   "execution_count": 418,
   "id": "d4008425-5300-4e08-9f5b-78f9ef46fc73",
   "metadata": {},
   "outputs": [
    {
     "name": "stdout",
     "output_type": "stream",
     "text": [
      "100\n",
      "500\n"
     ]
    }
   ],
   "source": [
    "#We want to find the straight line Distance of the returned power to the radar.\n",
    "#To do this we will use the Range (H), Elevation Angle (Theta), and Trig\n",
    "#to determine the straight line distance (D) of the returned power.\n",
    "\n",
    "#Create a new variable called distance with shape (time, range)\n",
    "distance = np.empty((dBZ.shape[0],1000))\n",
    "distance[:] = np.nan\n",
    "\n",
    "#We will loop through each range, over each Azimuth. So starting with the 0th Range, and 0th Azimuth\n",
    "R = 0\n",
    "D = 0\n",
    "\n",
    "#Loop through each Range\n",
    "while R < len(Range):\n",
    "    #Starting at 0 Azimuth for reach range\n",
    "    D = 0\n",
    "    \n",
    "    #Our range is our hypotenuse\n",
    "    Hypot = Range[R]\n",
    "    \n",
    "    #Loop through each azimuth\n",
    "    while D < len(Azimuth):\n",
    "        \n",
    "        #Get the distance using cos(Theta)*Hypotenuse.\n",
    "        #we also need to convert Elevation degrees into radians for math.cos to work\n",
    "        distance[D,R] = Hypot*math.cos(math.radians(Elevation[D]))\n",
    "        D = D + 1\n",
    "    R = R + 1\n",
    "    \n",
    "    #Checking to see how far the loop is\n",
    "    if R == 100:\n",
    "        print(R)\n",
    "    if R == 500:\n",
    "        print(R)\n",
    "    "
   ]
  },
  {
   "cell_type": "code",
   "execution_count": 419,
   "id": "fb5a091d-a8d5-4206-8ce5-ac89fae57006",
   "metadata": {},
   "outputs": [],
   "source": [
    "#Now we need to find the position of the return on a 2D surface relative to the radar\n",
    "#To do this, we will utilze the Straight Line Distance, and the Azimuth angle\n",
    "#The azimuth angle is degrees from true north.\n",
    "\n",
    "#At this point, we need to define our coordinate system. Our goal is to convert this into an X,Y\n",
    "#Cartesian Coordniate system. We will define our X range as [-50,50] km west and east of the Radar.\n",
    "#We will define our Y range as [-50,50] km North and East of the radar.\n",
    "\n",
    "#Define the X variables\n",
    "\n",
    "X = np.empty((dBZ.shape[0],1000))\n",
    "X[:] = np.nan\n",
    "\n",
    "#Define the Y variables\n",
    "\n",
    "Y = np.empty((dBZ.shape[0],1000))\n",
    "Y[:] = np.nan\n",
    "\n",
    "#First position in Time\n",
    "Time = 0\n",
    "\n",
    "for Phi in Azimuth:\n",
    "    #Going to add 90 degrees to Phi because it is degrees from true north. This way\n",
    "    #We get the angle from the positive X axis. It makes it 'easier' to know what positive\n",
    "    #and negative value you'll get from sin and cos\n",
    "    \n",
    "    Phi = Phi + 90\n",
    "    \n",
    "    X[Time,:] = math.cos(math.radians(Phi))*distance[Time,:]\n",
    "    Y[Time,:] = math.sin(math.radians(Phi))*distance[Time,:]\n",
    "    \n",
    "    \n",
    "    Time = Time + 1\n",
    "#Make the X and Y axis in KM        \n",
    "X = X / 1000\n",
    "Y = Y / 1000\n",
    "X = X * -1"
   ]
  },
  {
   "cell_type": "code",
   "execution_count": 420,
   "id": "5690bb71-a187-48de-975d-a54762a7bca0",
   "metadata": {},
   "outputs": [],
   "source": [
    "#Quality control\n",
    "\n",
    "#We want to find where the QF isn't equal 1, or when there isn't precip.\n",
    "index = np.where((QF[:,:] != 1))\n",
    "\n",
    "\n",
    "#Set those regions to nan\n",
    "dBZ[index[0],index[1]] = np.nan\n"
   ]
  },
  {
   "cell_type": "code",
   "execution_count": 421,
   "id": "5d90f7da-bdb2-432a-b5b8-da1703efd799",
   "metadata": {},
   "outputs": [
    {
     "data": {
      "image/png": "[encoded data removed]",
      "text/plain": [
       "<Figure size 432x288 with 1 Axes>"
      ]
     },
     "metadata": {
      "needs_background": "light"
     },
     "output_type": "display_data"
    }
   ],
   "source": [
    "fig, ax = plt.subplots()\n",
    "plt.plot(0, 0, marker='o', \\\n",
    "         color='red', markersize=10, \\\n",
    "        alpha=0.7)\n",
    "\n",
    "plt.plot(Xplane, Yplane, marker='|', \\\n",
    "         color='white', markersize=9, \\\n",
    "        alpha=0.4)\n",
    "plt.plot(Xplane, Yplane, marker='o', \\\n",
    "         color='red', markersize=1, \\\n",
    "        alpha=0.4)\n",
    "\n",
    "plt.text(Xplane[0],Yplane[0]+10, \"S\", fontsize = 5, color = \"black\")\n",
    "plt.text(Xplane[-1],Yplane[-1]+10, \"E\", fontsize = 5, color = \"black\")\n",
    "levs = np.arange(1,30,1)\n",
    "ax.contourf(X, Y, dBZ,levs, cmap = \"jet\")\n",
    "ax.set_facecolor('tab:gray')\n",
    "ax.xaxis.set_minor_locator(AutoMinorLocator())\n",
    "ax.tick_params(which='both', width=2)\n",
    "ax.tick_params(which='major', length=7)\n",
    "ax.tick_params(which='minor', length=4, color='r')\n",
    "ax.yaxis.set_minor_locator(AutoMinorLocator())\n",
    "ax.tick_params(which='both', width=2)\n",
    "ax.tick_params(which='major', length=7)\n",
    "ax.tick_params(which='minor', length=4, color='r')\n",
    "ax.set_aspect('equal')\n",
    "plt.xticks(fontsize = 14)\n",
    "plt.yticks(fontsize = 14)\n",
    "plt.grid()\n",
    "plt.title(\"Start: \"+start_time +\"   \" + \"End: \" + end_time + \"   \" + \"Angle: \" +elevation_angle, fontsize = 15)\n",
    "plt.text(-75,-65, \"50Km: \"+fiftykm_height, fontsize = 10, color = \"black\")\n",
    "plt.text(-44,-65, \"40Km: \"+fortykm_height, fontsize = 10, color = \"black\")\n",
    "plt.text(-13,-65, \"30Km: \"+thirtykm_height, fontsize = 10, color = \"black\")\n",
    "plt.text(18,-65, \"20Km: \"+twentykm_height, fontsize = 10, color = \"black\")\n",
    "plt.text(48,-65, \"10Km: \"+tenkm_height, fontsize = 10, color = \"black\")\n",
    "plt.savefig(picname, dpi = 400)"
   ]
  },
  {
   "cell_type": "code",
   "execution_count": null,
   "id": "2b48d21d-beea-41ab-bf79-9450b2efee6d",
   "metadata": {},
   "outputs": [],
   "source": []
  },
  {
   "cell_type": "code",
   "execution_count": null,
   "id": "26ba8eb5-8fbe-4973-9ded-1ddce7ab0406",
   "metadata": {},
   "outputs": [],
   "source": []
  },
  {
   "cell_type": "code",
   "execution_count": null,
   "id": "60875564-0e2e-49db-973d-1a23c0868cd8",
   "metadata": {},
   "outputs": [],
   "source": []
  }
 ],
 "metadata": {
  "kernelspec": {
   "display_name": "NPL-3.7.9",
   "language": "python",
   "name": "npl-3.7.9"
  },
  "language_info": {
   "codemirror_mode": {
    "name": "ipython",
    "version": 3
   },
   "file_extension": ".py",
   "mimetype": "text/x-python",
   "name": "python",
   "nbconvert_exporter": "python",
   "pygments_lexer": "ipython3",
   "version": "3.7.9"
  }
 },
 "nbformat": 4,
 "nbformat_minor": 5
}
