{
 "cells": [
  {
   "cell_type": "code",
   "execution_count": 12,
   "id": "b339647a-216f-4f39-880b-deac30933c94",
   "metadata": {},
   "outputs": [
    {
     "name": "stdout",
     "output_type": "stream",
     "text": [
      "['crsimNARRL6']\n",
      "Getting File Variables\n",
      "44.210682\n",
      "44.20693\n",
      "-116.50195\n",
      "-115.449066\n",
      "(80, 141, 141)\n",
      "80\n",
      "(141, 141)\n",
      "141\n"
     ]
    },
    {
     "name": "stderr",
     "output_type": "stream",
     "text": [
      "/glade/u/ssg/ch/usr/jupyterhub/envs/npl-3.7.9/cheyenne/lib/python3.7/site-packages/ipykernel_launcher.py:81: RuntimeWarning: Mean of empty slice\n",
      "/glade/u/ssg/ch/usr/jupyterhub/envs/npl-3.7.9/cheyenne/lib/python3.7/site-packages/ipykernel_launcher.py:83: RuntimeWarning: Mean of empty slice\n",
      "/glade/u/ssg/ch/usr/jupyterhub/envs/npl-3.7.9/cheyenne/lib/python3.7/site-packages/ipykernel_launcher.py:85: RuntimeWarning: invalid value encountered in less\n",
      "/glade/u/ssg/ch/usr/jupyterhub/envs/npl-3.7.9/cheyenne/lib/python3.7/site-packages/ipykernel_launcher.py:85: RuntimeWarning: invalid value encountered in greater\n"
     ]
    }
   ],
   "source": [
    "import netCDF4\n",
    "from netCDF4 import Dataset\n",
    "import numpy as np\n",
    "import matplotlib.pyplot as plt\n",
    "plt.switch_backend('agg')\n",
    "#from mpl_toolkits.basemap import Basemap,addcyclic,shiftgrid\n",
    "#import wrf\n",
    "from wrf import getvar, to_np, CoordPair, vertcross\n",
    "import matplotlib as mpl\n",
    "from mpl_toolkits.axes_grid1.inset_locator import inset_axes\n",
    "from mpl_toolkits.axes_grid1 import make_axes_locatable\n",
    "from metpy.units import units\n",
    "#from windspharm.standard import VectorWind\n",
    "#from mpl_toolkits.basemap import Basemap, addcyclic, shiftgrid\n",
    "import glob\n",
    "#import pyart\n",
    "import pyproj\n",
    "from matplotlib.ticker import (MultipleLocator, AutoMinorLocator)\n",
    "import sys\n",
    "sys.path.append('../')\n",
    "from functions_calc import geo_idx\n",
    "\n",
    "g = pyproj.Geod(ellps='WGS84')\n",
    "(az12, az21, dist) = g.inv(-116.11318, 44.16367, -115.63122, 44.590485)  \n",
    "\n",
    "file = sorted(glob.glob(\"crsimNARRL6\"))\n",
    "file = file [::-1]\n",
    "print(file)\n",
    "\n",
    "lons,lats, Z, h, Z_cross,ah, SW, SW_cross = [],[],[],[],[],[], [], []\n",
    "\n",
    "sp = [[33,72]]#,[31,7],[31,8]]\n",
    "ep = [[126,71]]#,[127,6],[127,7]]\n",
    "levs = np.arange(0,10001,40)\n",
    "\n",
    "for i in range(0, len(file)):\n",
    "\n",
    "    start_point = CoordPair(x = sp[i][0], y = sp[i][1])\n",
    "    end_point = CoordPair(x = ep[i][0], y = ep[i][1])\n",
    "\n",
    "    f = Dataset(file[i])\n",
    "    title = file[i][-1]\n",
    "    print(\"Getting File Variables\")\n",
    "    lons.append(np.array(f.variables['xlong'][:]))\n",
    "    lats.append(np.array(f.variables['xlat'][:]))\n",
    "    Z.append(np.array(f.variables['Zhh'][:]))\n",
    "    h.append(np.array(f.variables['height'][:]))\n",
    "    ah.append(np.array(f.variables['Ah'][:]))\n",
    "    SW.append(np.array(f.variables['SWtot']))\n",
    "    \n",
    "    print(f.variables['xlat'][:][72,33])\n",
    "    print(f.variables['xlat'][:][71,126])\n",
    "    print(f.variables['xlong'][:][72,33])\n",
    "    print(f.variables['xlong'][:][71,126])\n",
    "    \n",
    "    f.close()\n",
    "    \n",
    "    #FIRST = np.array(f.variables['Zhh'][:])\n",
    "    \n",
    "    #file2 = sorted(glob.glob(\"crsimERA5L1UP\"))\n",
    "    #file2 = file2 [::-1]\n",
    "    #f2 = Dataset(file[i])\n",
    "    \n",
    "    \n",
    "    #SECOND = np.array(f2.variables['Zhh'][:])\n",
    "    \n",
    "    #FINAL = FIRST + SECOND\n",
    "\n",
    "    invalid = np.logical_or(ah[i]<0,ah[i]>2000)\n",
    "    ah[i][invalid]=np.nan\n",
    "    #For every iteration between 0 and the number of items deposited into Z\n",
    "    print(Z[i].shape)\n",
    "    print(len(Z[i]))\n",
    "    print(Z[i][0].shape)\n",
    "    print(len(Z[i][0]))\n",
    "    for j in range(0,len(Z[i])):\n",
    "        for k in range(0,len(Z[i][0])):\n",
    "            for m in range(0,len(Z[i][0][0])):\n",
    "                h_j = geo_idx(3950.0,h[i][:,k,m])\n",
    "                if j < h_j:\n",
    "                    Z[i][j,k,m] = Z[i][j,k,m]-2*np.nanmean(ah[i][j:h_j,k,m])*(h[i][h_j,k,m]-h[i][j,k,m])/1000.0\n",
    "                if j > h_j:\n",
    "                    Z[i][j,k,m] = Z[i][j,k,m]-2*np.nanmean(ah[i][h_j:j,k,m])*(h[i][j,k,m]-h[i][h_j,k,m])/1000.0\n",
    "\n",
    "    invalid = np.logical_or(Z[i]<-40,Z[i]>20)\n",
    "    Z[i][invalid]=np.nan\n",
    "    Z_cross.append(vertcross(np.asarray(Z[i]), np.asarray(h[i]), np.array(levs), start_point = start_point, end_point = end_point, latlon = False, meta = False))\n",
    "    SW_cross.append(vertcross(np.asarray(SW[i]), np.asarray(h[i]), np.array(levs), start_point = start_point, end_point = end_point, latlon = False, meta = False))\n",
    "\n",
    "vmin = -40\n",
    "vmax = 20\n",
    "#color = pyart.graph.cm.LangRainbow12\n",
    "#colorlist  = [color(i) for i in range(color.N)]\n",
    "#color = mpl.colors.LinearSegmentedColormap.from_list('Custom cmap', colorlist, color.N)\n",
    "bounds = np.arange(vmin,vmax+0.001,0.01)\n",
    "#norm = mpl.colors.BoundaryNorm(bounds, color.N)\n",
    "\n"
   ]
  },
  {
   "cell_type": "code",
   "execution_count": 13,
   "id": "705ecb4a-5743-4e67-b9a0-3d6541f41a8b",
   "metadata": {},
   "outputs": [
    {
     "name": "stderr",
     "output_type": "stream",
     "text": [
      "/glade/u/ssg/ch/usr/jupyterhub/envs/npl-3.7.9/cheyenne/lib/python3.7/site-packages/ipykernel_launcher.py:25: RuntimeWarning: invalid value encountered in greater\n",
      "/glade/u/ssg/ch/usr/jupyterhub/envs/npl-3.7.9/cheyenne/lib/python3.7/site-packages/ipykernel_launcher.py:25: RuntimeWarning: invalid value encountered in less\n"
     ]
    }
   ],
   "source": [
    "fig, ax = plt.subplots(len(file),1,figsize=(10, 8))\n",
    "for i in range(0,len(file)):\n",
    "\n",
    "    if i == 0:\n",
    "        mu = 1\n",
    "    if i == 1 or i == 2:\n",
    "        mu = 3\n",
    "    if i == 3:\n",
    "        mu = 9\n",
    "\n",
    "    lonplot = np.linspace(lons[i][sp[i][1],sp[i][0]],lons[i][ep[0][1],ep[i][0]],len(Z_cross[i][-1,:]))\n",
    "    latplot = np.linspace(lats[i][sp[i][1],sp[i][0]],lats[i][ep[0][1],ep[i][0]],len(Z_cross[i][-1,:]))\n",
    "    x_ticks = np.arange(lonplot.shape[0])\n",
    "    lonplot=np.round(lonplot,2)\n",
    "    latplot=np.round(latplot,2)\n",
    "    ax.xaxis.set_minor_locator(MultipleLocator(2000/dist*len(x_ticks)))\n",
    "    ax.set_xticks([j/dist*len(x_ticks) for j in range(0,110000,10000)])\n",
    "\n",
    "    if i == len(file)-1:\n",
    "        ax.set_xticklabels(range(0,110,10))\n",
    "        #ax.set_xlabel(\"Distance [km]\")\n",
    "    else:\n",
    "        ax.get_xaxis().set_ticklabels([])\n",
    "        \n",
    "    invalid = np.logical_or(Z_cross[i]>20,Z_cross[i]<-40)\n",
    "    Z_cross[i][invalid] = np.nan\n",
    "    #cntrro = ax.pcolormesh(to_np(x_ticks), to_np(levs), Z_cross[i], vmin=vmin,vmax=vmax,  cmap = 'jet')\n",
    "    cnt = ax.contourf(to_np(x_ticks), to_np(levs), Z_cross[i], vmin=vmin,vmax=vmax,  cmap = 'jet')\n",
    "    divider = make_axes_locatable(ax)\n",
    "    cax = divider.append_axes(\"right\", size=\"1.5%\", pad = 0.175)\n",
    "    cbar = plt.colorbar(cnt, cax=cax)\n",
    "    cbar.set_label(\"W-Band Z [dBZ]\")\n",
    "    cbar.set_ticks(np.arange(-40,21,10))\n",
    "    cbar.set_ticklabels(np.arange(-40,21,10))\n",
    "\n",
    "    ax.set_ylim(1000,9000)\n",
    "    ax.set_yticks(np.arange(1000,9001,1000))\n",
    "    ax.set_yticklabels(np.arange(1,10,1))\n",
    "    ax.set_ylabel(\"MSL [km]\")\n",
    "\n",
    "    \n",
    "#plt.text(-2200,13, \"ERA5 L\"+title[0], fontsize = 15)\n",
    "plt.text(-2200,13, \"NARR L6\", fontsize = 15)\n",
    "### Save Picture in right folder, rename might be required ###\n",
    "plt.savefig(\"wbandNARRl6.png\", dpi = 100)\n",
    "#### Close figure to save memory ####\n",
    "plt.close(fig)"
   ]
  },
  {
   "cell_type": "code",
   "execution_count": 3,
   "id": "2b596f2f-826f-491d-a143-3dd78cf3b0f5",
   "metadata": {},
   "outputs": [],
   "source": [
    "sp = [[72,16]]#,[31,7],[31,8]]\n",
    "ep = [[71,127]]#,[127,6],[127,7]]"
   ]
  },
  {
   "cell_type": "code",
   "execution_count": 4,
   "id": "8541a8c2-b87f-4beb-8cc6-1b262153f6c7",
   "metadata": {},
   "outputs": [
    {
     "data": {
      "text/plain": [
       "(251, 112)"
      ]
     },
     "execution_count": 4,
     "metadata": {},
     "output_type": "execute_result"
    }
   ],
   "source": [
    "Z_cross[0].shape"
   ]
  },
  {
   "cell_type": "code",
   "execution_count": null,
   "id": "e2f3c197-95c2-4d3f-a89d-37a2a94c5716",
   "metadata": {},
   "outputs": [],
   "source": []
  }
 ],
 "metadata": {
  "kernelspec": {
   "display_name": "NPL-3.7.9",
   "language": "python",
   "name": "npl-3.7.9"
  },
  "language_info": {
   "codemirror_mode": {
    "name": "ipython",
    "version": 3
   },
   "file_extension": ".py",
   "mimetype": "text/x-python",
   "name": "python",
   "nbconvert_exporter": "python",
   "pygments_lexer": "ipython3",
   "version": "3.7.9"
  }
 },
 "nbformat": 4,
 "nbformat_minor": 5
}
