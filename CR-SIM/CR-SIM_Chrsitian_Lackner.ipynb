{
 "cells": [
  {
   "cell_type": "code",
   "execution_count": 2,
   "id": "84036aa6-af0d-4946-af13-7d040a1cf25a",
   "metadata": {},
   "outputs": [
    {
     "name": "stdout",
     "output_type": "stream",
     "text": [
      "\n",
      "## You are using the Python ARM Radar Toolkit (Py-ART), an open source\n",
      "## library for working with weather radar data. Py-ART is partly\n",
      "## supported by the U.S. Department of Energy as part of the Atmospheric\n",
      "## Radiation Measurement (ARM) Climate Research Facility, an Office of\n",
      "## Science user facility.\n",
      "##\n",
      "## If you use this software to prepare a publication, please cite:\n",
      "##\n",
      "##     JJ Helmus and SM Collis, JORS 2016, doi: 10.5334/jors.119\n",
      "\n"
     ]
    }
   ],
   "source": [
    "from netCDF4 import Dataset\n",
    "import numpy as np\n",
    "import matplotlib.pyplot as plt\n",
    "plt.switch_backend('agg')\n",
    "import wrf\n",
    "from wrf import getvar, to_np, CoordPair, vertcross\n",
    "import matplotlib as mpl\n",
    "from mpl_toolkits.axes_grid1 import make_axes_locatable\n",
    "import glob\n",
    "import pyart\n",
    "import pyproj\n",
    "from matplotlib.ticker import (MultipleLocator, AutoMinorLocator)\n",
    "### Function to find position in 1d array closest to a value ###\n",
    "def geo_idx(dd, dd_array):\n",
    "   geo_idx = (np.abs(dd_array - dd)).argmin()\n",
    "   return geo_idx\n"
   ]
  },
  {
   "cell_type": "code",
   "execution_count": 3,
   "id": "783ff5a0-ca1c-4096-b788-b5420facf463",
   "metadata": {},
   "outputs": [
    {
     "name": "stdout",
     "output_type": "stream",
     "text": [
      "['/glade/u/home/sisichen/scratch/CRSIM_RUN/IOP7_100m_LES/crsimout_00:40:00', '/glade/u/home/sisichen/scratch/CRSIM_RUN/IOP7_100m_LES/crsimout_00:45:00', '/glade/u/home/sisichen/scratch/CRSIM_RUN/IOP7_100m_LES/crsimout_00:50:00', '/glade/u/home/sisichen/scratch/CRSIM_RUN/IOP7_100m_LES/crsimout_00:55:00', '/glade/u/home/sisichen/scratch/CRSIM_RUN/IOP7_100m_LES/crsimout_01:00:00', '/glade/u/home/sisichen/scratch/CRSIM_RUN/IOP7_100m_LES/crsimout_01:05:00', '/glade/u/home/sisichen/scratch/CRSIM_RUN/IOP7_100m_LES/crsimout_01:10:00', '/glade/u/home/sisichen/scratch/CRSIM_RUN/IOP7_100m_LES/wrfout_d02_2017-01-22_00:40:00', '/glade/u/home/sisichen/scratch/CRSIM_RUN/IOP7_100m_LES/wrfout_d02_2017-01-22_00:45:00', '/glade/u/home/sisichen/scratch/CRSIM_RUN/IOP7_100m_LES/wrfout_d02_2017-01-22_00:50:00', '/glade/u/home/sisichen/scratch/CRSIM_RUN/IOP7_100m_LES/wrfout_d02_2017-01-22_00:55:00', '/glade/u/home/sisichen/scratch/CRSIM_RUN/IOP7_100m_LES/wrfout_d02_2017-01-22_01:00:00', '/glade/u/home/sisichen/scratch/CRSIM_RUN/IOP7_100m_LES/wrfout_d02_2017-01-22_01:05:00', '/glade/u/home/sisichen/scratch/CRSIM_RUN/IOP7_100m_LES/wrfout_d02_2017-01-22_01:10:00']\n"
     ]
    },
    {
     "name": "stderr",
     "output_type": "stream",
     "text": [
      "/glade/u/home/sisichen/.conda/envs/geocat/lib/python3.9/site-packages/ipykernel/ipkernel.py:283: DeprecationWarning: `should_run_async` will not call `transform_cell` automatically in the future. Please pass the result to `transformed_cell` argument and any exception that happen during thetransform in `preprocessing_exc_tuple` in IPython 7.17 and above.\n",
      "  and should_run_async(code)\n"
     ]
    }
   ],
   "source": [
    "### File path ###\n",
    "file = sorted(glob.glob(\"/glade/u/home/sisichen/scratch/CRSIM_RUN/IOP7_100m_LES/*00\"))\n",
    "print(file)\n",
    "### calculate distance between start and end of transect ###\n",
    "g = pyproj.Geod(ellps='WGS84')\n",
    "(az12, az21, dist) = g.inv(-116.338135, 43.96712, -115.6207, 44.595837)\n"
   ]
  },
  {
   "cell_type": "code",
   "execution_count": 5,
   "id": "3aa2d1ff-dfeb-4538-8118-bb91ed26c188",
   "metadata": {},
   "outputs": [
    {
     "name": "stderr",
     "output_type": "stream",
     "text": [
      "/glade/u/home/sisichen/.conda/envs/geocat/lib/python3.9/site-packages/ipykernel/ipkernel.py:283: DeprecationWarning: `should_run_async` will not call `transform_cell` automatically in the future. Please pass the result to `transformed_cell` argument and any exception that happen during thetransform in `preprocessing_exc_tuple` in IPython 7.17 and above.\n",
      "  and should_run_async(code)\n"
     ]
    },
    {
     "data": {
      "text/plain": [
       "90334.64737881359"
      ]
     },
     "execution_count": 5,
     "metadata": {},
     "output_type": "execute_result"
    }
   ],
   "source": [
    "dist"
   ]
  },
  {
   "cell_type": "code",
   "execution_count": null,
   "id": "f3344b58-e09e-4890-b434-e220ed44d97d",
   "metadata": {},
   "outputs": [],
   "source": []
  }
 ],
 "metadata": {
  "kernelspec": {
   "display_name": "Python [conda env:.conda-geocat]",
   "language": "python",
   "name": "conda-env-.conda-geocat-py"
  },
  "language_info": {
   "codemirror_mode": {
    "name": "ipython",
    "version": 3
   },
   "file_extension": ".py",
   "mimetype": "text/x-python",
   "name": "python",
   "nbconvert_exporter": "python",
   "pygments_lexer": "ipython3",
   "version": "3.9.2"
  }
 },
 "nbformat": 4,
 "nbformat_minor": 5
}
