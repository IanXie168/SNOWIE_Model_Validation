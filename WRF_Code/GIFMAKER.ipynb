{
 "cells": [
  {
   "cell_type": "code",
   "execution_count": 11,
   "id": "bef83041-179c-43d3-9302-48b9f77bfbc2",
   "metadata": {},
   "outputs": [],
   "source": [
    "filenames = [\"_220CAPPI\",\"_230CAPPI\",\"_240CAPPI\",\"_250CAPPI\",\"_300CAPPI\",\"_310CAPPI\",\"_320CAPPI\",\"_330CAPPI\",\"_340CAPPI\",\"_350CAPPI\",\"_400CAPPI\",\"_410CAPPI\",\"_420CAPPI\",\"_430CAPPI\",\"_440CAPPI\",\"_450CAPPI\",\"_500CAPPI\",\"_510CAPPI\",\"_520CAPPI\",\"_540CAPPI\",\"_550CAPPI\"]"
   ]
  },
  {
   "cell_type": "code",
   "execution_count": 12,
   "id": "5d29b572-165f-4864-b1a0-1a0251ee9f1d",
   "metadata": {},
   "outputs": [],
   "source": [
    "kargs = { 'duration': 1.2 }"
   ]
  },
  {
   "cell_type": "code",
   "execution_count": 13,
   "id": "69c91e8d-61c1-4a1d-a750-a1e2f97828e0",
   "metadata": {},
   "outputs": [],
   "source": [
    "alt_namelist = [\"2.0km\", \"2.6km\",\"3.0km\",\"3.6km\",\"4.0km\",\"4.6km\",\"5.0km\",\"5.6km\",\"6.0km\",\"6.6km\",\"7.0km\"]"
   ]
  },
  {
   "cell_type": "code",
   "execution_count": 14,
   "id": "3f237259-7cf4-4383-95ee-918ea944fb77",
   "metadata": {},
   "outputs": [],
   "source": [
    "import imageio\n",
    "z = 0\n",
    "images = []\n",
    "while z < len(alt_namelist):\n",
    "    for x in filenames:\n",
    "        name =  alt_namelist[z] + x + \".png\"\n",
    "        images.append(imageio.imread(name))\n",
    "        imagename = alt_namelist[z] + \"DOW7.gif\"\n",
    "    imageio.mimsave(imagename, images, **kargs)\n",
    "    images = []\n",
    "    z = z + 1"
   ]
  },
  {
   "cell_type": "code",
   "execution_count": 10,
   "id": "d540ec95-9029-4d07-b8d2-5288fb7a2fff",
   "metadata": {},
   "outputs": [],
   "source": [
    "#NO 530 RADAR ANALYSIS"
   ]
  },
  {
   "cell_type": "code",
   "execution_count": null,
   "id": "a45499eb-dafd-45ed-bd84-cfec97381c89",
   "metadata": {},
   "outputs": [],
   "source": []
  }
 ],
 "metadata": {
  "kernelspec": {
   "display_name": "NPL-3.7.9",
   "language": "python",
   "name": "npl-3.7.9"
  },
  "language_info": {
   "codemirror_mode": {
    "name": "ipython",
    "version": 3
   },
   "file_extension": ".py",
   "mimetype": "text/x-python",
   "name": "python",
   "nbconvert_exporter": "python",
   "pygments_lexer": "ipython3",
   "version": "3.7.9"
  }
 },
 "nbformat": 4,
 "nbformat_minor": 5
}
